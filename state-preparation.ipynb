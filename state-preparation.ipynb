{
 "cells": [
  {
   "cell_type": "markdown",
   "metadata": {},
   "source": [
    "# Mixed State Preparation\n",
    "Quantum Neural Network (QNN) to prepare a mixed state via purification"
   ]
  },
  {
   "cell_type": "code",
   "execution_count": 47,
   "metadata": {
    "collapsed": true
   },
   "outputs": [],
   "source": [
    "import tensorflow as tf\n",
    "\n",
    "import strawberryfields as sf\n",
    "from strawberryfields.ops import *\n",
    "\n",
    "from qutip import rand_dm_ginibre\n",
    "\n",
    "import numpy as np\n",
    "from matplotlib import pyplot as plt\n",
    "%matplotlib inline\n",
    "from IPython.display import clear_output"
   ]
  },
  {
   "cell_type": "markdown",
   "metadata": {},
   "source": [
    "## Constants"
   ]
  },
  {
   "cell_type": "markdown",
   "metadata": {},
   "source": [
    "### Dataset"
   ]
  },
  {
   "cell_type": "code",
   "execution_count": 2,
   "metadata": {
    "collapsed": true
   },
   "outputs": [],
   "source": [
    "n_qumodes = 2\n",
    "size_system = n_qumodes * 2 # for purification\n",
    "\n",
    "cutoff = 3\n",
    "\n",
    "n_samples = 2\n",
    "\n",
    "size_hilbert = cutoff**n_qumodes"
   ]
  },
  {
   "cell_type": "markdown",
   "metadata": {},
   "source": [
    "### State preparation"
   ]
  },
  {
   "cell_type": "code",
   "execution_count": 3,
   "metadata": {
    "collapsed": true
   },
   "outputs": [],
   "source": [
    "n_layers = 20\n",
    "\n",
    "# Standard deviation of initial parameters\n",
    "passive_std = 0.1\n",
    "active_std = 0.001"
   ]
  },
  {
   "cell_type": "markdown",
   "metadata": {},
   "source": [
    "## Creation of the dataset"
   ]
  },
  {
   "cell_type": "code",
   "execution_count": 4,
   "metadata": {
    "collapsed": true
   },
   "outputs": [],
   "source": [
    "def purity_fct(rho, backend=\"np\"):\n",
    "    if backend == \"np\":\n",
    "        return np.real(np.trace(rho @ rho))\n",
    "    if backend == \"tf\":\n",
    "        return tf.real(tf.trace(rho @ rho))\n",
    "    else:\n",
    "        raise ValueError(\"Backend must be in ['tf', 'np']. Currently {}\".format(backend))"
   ]
  },
  {
   "cell_type": "code",
   "execution_count": 5,
   "metadata": {
    "collapsed": true
   },
   "outputs": [],
   "source": [
    "ranks = np.random.randint(1,size_hilbert, size=n_samples)"
   ]
  },
  {
   "cell_type": "code",
   "execution_count": 6,
   "metadata": {
    "collapsed": true
   },
   "outputs": [],
   "source": [
    "rhos = np.array([rand_dm_ginibre(N=size_hilbert, rank=r).data.toarray() for r in ranks])"
   ]
  },
  {
   "cell_type": "code",
   "execution_count": 7,
   "metadata": {},
   "outputs": [
    {
     "name": "stdout",
     "output_type": "stream",
     "text": [
      "(2,)\n"
     ]
    }
   ],
   "source": [
    "purities = np.array([purity_fct(rho, \"np\") for rho in rhos])\n",
    "print(purities.shape)"
   ]
  },
  {
   "cell_type": "markdown",
   "metadata": {},
   "source": [
    "## State preparation procedure"
   ]
  },
  {
   "cell_type": "markdown",
   "metadata": {},
   "source": [
    "### Placeholders"
   ]
  },
  {
   "cell_type": "code",
   "execution_count": 8,
   "metadata": {
    "collapsed": true
   },
   "outputs": [],
   "source": [
    "rho_input = tf.placeholder(tf.complex64, [size_hilbert, size_hilbert])\n",
    "lr_placeholder = tf.placeholder(tf.float32)"
   ]
  },
  {
   "cell_type": "markdown",
   "metadata": {},
   "source": [
    "### Parameters"
   ]
  },
  {
   "cell_type": "code",
   "execution_count": 12,
   "metadata": {},
   "outputs": [],
   "source": [
    "# Initial parameters\n",
    "\n",
    "# squeeze gate\n",
    "sq_r = tf.Variable(tf.random_normal(shape=[n_layers, size_system], stddev=active_std))\n",
    "sq_phi = tf.Variable(tf.random_normal(shape=[n_layers, size_system], stddev=passive_std))\n",
    "\n",
    "# displacement gate\n",
    "d_r = tf.Variable(tf.random_normal(shape=[n_layers, size_system], stddev=active_std))\n",
    "d_phi = tf.Variable(tf.random_normal(shape=[n_layers, size_system], stddev=passive_std))\n",
    "\n",
    "# interferometer\n",
    "inter_theta = tf.Variable(tf.random_normal(shape=[n_layers*2, int(size_system*(size_system-1)/2)], stddev=passive_std))\n",
    "inter_phi = tf.Variable(tf.random_normal(shape=[n_layers*2, int(size_system*(size_system-1)/2)], stddev=passive_std))\n",
    "inter_rphi = tf.Variable(tf.random_normal(shape=[n_layers*2, size_system-1], stddev=passive_std))\n",
    "\n",
    "# kerr gate\n",
    "kappa = tf.Variable(tf.random_normal(shape=[n_layers, size_system], stddev=active_std))"
   ]
  },
  {
   "cell_type": "code",
   "execution_count": 13,
   "metadata": {},
   "outputs": [],
   "source": [
    "parameters = [sq_r, sq_phi, d_r, d_phi, inter_theta, inter_phi, inter_rphi, kappa]"
   ]
  },
  {
   "cell_type": "markdown",
   "metadata": {},
   "source": [
    "### Construct the circuit"
   ]
  },
  {
   "cell_type": "code",
   "execution_count": 14,
   "metadata": {
    "collapsed": true
   },
   "outputs": [],
   "source": [
    "def Interferometer(theta, phi, rphi, q):\n",
    "\t# parameterised interferometer acting on N qumodes\n",
    "    # theta is a list of length N(N-1)/2\n",
    "    # phi is a list of length N(N-1)/2\n",
    "    # rphi is a list of length N-1\n",
    "\t# q is the list of qumodes the interferometer is to be applied to\n",
    "    N = len(q)\n",
    "\n",
    "    if N == 1:\n",
    "        # the interferometer is a single rotation\n",
    "        Rgate(rphi[0]) | q[0]\n",
    "        return\n",
    "\n",
    "    n = 0 # keep track of free parameters\n",
    "\n",
    "    # Apply the Clements beamsplitter array\n",
    "    # The array depth is N\n",
    "    for l in range(N):\n",
    "        for k, (q1, q2) in enumerate(zip(q[:-1], q[1:])):\n",
    "            #skip even or odd pairs depending on layer\n",
    "            if (l+k)%2 != 1:\n",
    "                BSgate(theta[n], phi[n]) | (q1, q2)\n",
    "                n += 1\n",
    "\n",
    "    # apply the final local phase shifts to all modes except the last one\n",
    "    for i in range(len(q)-1):\n",
    "        Rgate(rphi[i]) | q[i]"
   ]
  },
  {
   "cell_type": "code",
   "execution_count": 15,
   "metadata": {
    "collapsed": true
   },
   "outputs": [],
   "source": [
    "def layer(i, q, params):\n",
    "    sq_r, sq_phi, d_r, d_phi, inter_theta, inter_phi, inter_rphi, kappa = tuple(params)\n",
    "    \n",
    "    Interferometer(inter_theta[2*i], inter_phi[2*i], inter_rphi[2*i], q)\n",
    "    \n",
    "    for j in range(len(q)):\n",
    "        Sgate(sq_r[i,j], sq_phi[i,j]) | q[j]\n",
    "        \n",
    "    Interferometer(inter_theta[2*i+1], inter_phi[2*i+1], inter_rphi[2*i+1], q)\n",
    "    \n",
    "    for j in range(len(q)):\n",
    "        Dgate(d_r[i,j], d_phi[i,j]) | q[j]\n",
    "        \n",
    "    for j in range(len(q)):\n",
    "        Kgate(kappa[i,j]) | q[j]\n",
    "\n",
    "    return q"
   ]
  },
  {
   "cell_type": "code",
   "execution_count": 21,
   "metadata": {
    "collapsed": true
   },
   "outputs": [],
   "source": [
    "def state_preparation(q):\n",
    "    for i in range(n_layers):\n",
    "        layer(i, q, parameters)"
   ]
  },
  {
   "cell_type": "code",
   "execution_count": 22,
   "metadata": {},
   "outputs": [],
   "source": [
    "# Start SF engine\n",
    "engine, q = sf.Engine(n_qumodes*2)\n",
    "\n",
    "# Apply circuit of layers with corresponding depth\n",
    "with engine:\n",
    "    state_preparation(q)"
   ]
  },
  {
   "cell_type": "code",
   "execution_count": 23,
   "metadata": {
    "collapsed": true
   },
   "outputs": [],
   "source": [
    "# Run engine\n",
    "state = engine.run('tf', cutoff_dim=cutoff, eval=False, modes=[0,1])\n",
    "reduced_dm = tf.reshape(tf.einsum('ijkl->ikjl', state.dm()), (size_hilbert, size_hilbert))\n",
    "purity_output = tf.real(tf.trace(reduced_dm @ reduced_dm))"
   ]
  },
  {
   "cell_type": "markdown",
   "metadata": {},
   "source": [
    "### Cost and optimizer"
   ]
  },
  {
   "cell_type": "code",
   "execution_count": 32,
   "metadata": {
    "collapsed": true
   },
   "outputs": [],
   "source": [
    "def normed_cost_function(rho1, rho2):\n",
    "    return tf.real(tf.norm(rho1 - rho2, axis=(0,1)))\n",
    "\n",
    "def eigen_cost_function(rho1, rho2):\n",
    "    return tf.reduce_mean(tf.square(tf.real(tf.linalg.eigvalsh(rho1 - rho2))))\n",
    "#     return tf.reduce_mean(tf.square(tf.real(tf.linalg.eigvalsh(rho1) - tf.linalg.eigvalsh(rho2))))\n",
    "def purity_cost_function(rho1, rho2):\n",
    "    return tf.square(purity_fct(rho1, \"tf\") - purity_fct(rho2, \"tf\"))"
   ]
  },
  {
   "cell_type": "code",
   "execution_count": 33,
   "metadata": {
    "collapsed": true
   },
   "outputs": [],
   "source": [
    "cost = eigen_cost_function(reduced_dm, rho_input)"
   ]
  },
  {
   "cell_type": "code",
   "execution_count": 34,
   "metadata": {
    "collapsed": true
   },
   "outputs": [],
   "source": [
    "optimiser = tf.train.AdamOptimizer(learning_rate=lr_placeholder)\n",
    "min_cost = optimiser.minimize(cost)"
   ]
  },
  {
   "cell_type": "markdown",
   "metadata": {},
   "source": [
    "### Training"
   ]
  },
  {
   "cell_type": "code",
   "execution_count": 35,
   "metadata": {
    "collapsed": true
   },
   "outputs": [],
   "source": [
    "sess = tf.Session()\n",
    "sess.run(tf.global_variables_initializer())"
   ]
  },
  {
   "cell_type": "code",
   "execution_count": 36,
   "metadata": {
    "collapsed": true
   },
   "outputs": [],
   "source": [
    "cost_list = []\n",
    "purity_list = []\n",
    "i = 0"
   ]
  },
  {
   "cell_type": "code",
   "execution_count": null,
   "metadata": {},
   "outputs": [
    {
     "name": "stdout",
     "output_type": "stream",
     "text": [
      "Cost after step  8106:  0.0000763\n",
      "Purity: 0.9485919\n"
     ]
    }
   ],
   "source": [
    "nb_iters = 5000\n",
    "lr = 1e-3\n",
    "rho_index = 1\n",
    "avg_lrs = 10\n",
    "\n",
    "for i in range(i, nb_iters+i):\n",
    "#     if i > avg_lrs and np.mean(cost_list[-avg_lrs:]) > np.mean(cost_list[-avg_lrs*2:-avg_lrs]):\n",
    "#         print(\"Divide learning rate\")\n",
    "#         lr /= 2\n",
    "        \n",
    "    _, curr_cost = sess.run([min_cost, cost], feed_dict={rho_input: rhos[rho_index], lr_placeholder: lr})\n",
    "    curr_purity = sess.run(purity_output, feed_dict={rho_input: rhos[rho_index]})\n",
    "        \n",
    "    cost_list.append(curr_cost)\n",
    "    purity_list.append(curr_purity)\n",
    "    \n",
    "    clear_output(wait=True)\n",
    "    print('Cost after step {:5d}: {: .7f}'.format(i, cost_list[-1]))\n",
    "    print('Purity: {:.7f}'.format(purity_list[-1]))\n",
    "i = i+1"
   ]
  },
  {
   "cell_type": "code",
   "execution_count": 61,
   "metadata": {},
   "outputs": [
    {
     "data": {
      "text/plain": [
       "<matplotlib.legend.Legend at 0x7fd86bda4128>"
      ]
     },
     "execution_count": 61,
     "metadata": {},
     "output_type": "execute_result"
    },
    {
     "data": {
      "image/png": "[encoded data removed]",
      "text/plain": [
       "<Figure size 1296x360 with 2 Axes>"
      ]
     },
     "metadata": {},
     "output_type": "display_data"
    }
   ],
   "source": [
    "start = 100\n",
    "\n",
    "plt.rcParams['figure.figsize'] = (18,5)\n",
    "plt.subplot(1,2,1)\n",
    "plt.plot(cost_list[start:], label=\"rho\")\n",
    "plt.subplot(1,2,2)\n",
    "plt.plot(purity_list[start:], label=\"purity\")\n",
    "plt.axhline(y=purities[rho_index], color='r', linestyle='-')\n",
    "plt.legend()\n",
    "# plt.yscale('log')"
   ]
  },
  {
   "cell_type": "code",
   "execution_count": null,
   "metadata": {
    "collapsed": true
   },
   "outputs": [],
   "source": [
    "pred_dm = sess.run(reduced_dm)"
   ]
  },
  {
   "cell_type": "code",
   "execution_count": null,
   "metadata": {},
   "outputs": [],
   "source": [
    "np.real(np.trace(pred_dm @ pred_dm))"
   ]
  },
  {
   "cell_type": "code",
   "execution_count": null,
   "metadata": {},
   "outputs": [],
   "source": [
    "np.real(np.trace(rhos[1] @ rhos[1]))"
   ]
  },
  {
   "cell_type": "code",
   "execution_count": null,
   "metadata": {},
   "outputs": [],
   "source": [
    "purity_fct(pred_dm)"
   ]
  },
  {
   "cell_type": "code",
   "execution_count": 41,
   "metadata": {},
   "outputs": [
    {
     "data": {
      "text/plain": [
       "0.9999999999999999"
      ]
     },
     "execution_count": 41,
     "metadata": {},
     "output_type": "execute_result"
    }
   ],
   "source": [
    "purities[1]"
   ]
  },
  {
   "cell_type": "code",
   "execution_count": null,
   "metadata": {
    "collapsed": true
   },
   "outputs": [],
   "source": []
  }
 ],
 "metadata": {
  "kernelspec": {
   "display_name": "Python [conda env:sf]",
   "language": "python",
   "name": "conda-env-sf-py"
  },
  "language_info": {
   "codemirror_mode": {
    "name": "ipython",
    "version": 3
   },
   "file_extension": ".py",
   "mimetype": "text/x-python",
   "name": "python",
   "nbconvert_exporter": "python",
   "pygments_lexer": "ipython3",
   "version": "3.6.8"
  }
 },
 "nbformat": 4,
 "nbformat_minor": 2
}
