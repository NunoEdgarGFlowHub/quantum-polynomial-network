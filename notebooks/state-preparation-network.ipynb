{
 "cells": [
  {
   "cell_type": "markdown",
   "metadata": {},
   "source": [
    "# State Preparation Network\n",
    "Quantum Neural Network (QNN) that compute the purity of a given state"
   ]
  },
  {
   "cell_type": "code",
   "execution_count": 4,
   "metadata": {},
   "outputs": [],
   "source": [
    "import os\n",
    "import numpy as np\n",
    "from matplotlib import pyplot as plt\n",
    "%matplotlib inline\n",
    "from IPython.display import clear_output\n",
    "\n",
    "import tensorflow as tf\n",
    "\n",
    "import strawberryfields as sf\n",
    "from strawberryfields.ops import *\n",
    "\n",
    "from state_preparation import state_preparation_network, layer"
   ]
  },
  {
   "cell_type": "code",
   "execution_count": 5,
   "metadata": {},
   "outputs": [],
   "source": [
    "%load_ext autoreload\n",
    "%autoreload 2"
   ]
  },
  {
   "cell_type": "code",
   "execution_count": 6,
   "metadata": {},
   "outputs": [],
   "source": [
    "np.random.seed(42)\n",
    "tf.set_random_seed(42)"
   ]
  },
  {
   "cell_type": "markdown",
   "metadata": {},
   "source": [
    "## Constants"
   ]
  },
  {
   "cell_type": "markdown",
   "metadata": {},
   "source": [
    "### Dataset"
   ]
  },
  {
   "cell_type": "code",
   "execution_count": 70,
   "metadata": {},
   "outputs": [],
   "source": [
    "data_folder = \"data/purity/one_qumode/cutoff_5/\"\n",
    "\n",
    "n_qumodes_rho = 1\n",
    "n_qumodes_psi = n_qumodes_rho * 2 # for purification\n",
    "n_qumodes_total = n_qumodes_psi\n",
    "\n",
    "cutoff = 5\n",
    "size_hilbert = cutoff**n_qumodes_rho\n",
    "\n",
    "ratio_train = 0.75"
   ]
  },
  {
   "cell_type": "markdown",
   "metadata": {},
   "source": [
    "### State network"
   ]
  },
  {
   "cell_type": "code",
   "execution_count": 71,
   "metadata": {},
   "outputs": [],
   "source": [
    "n_layers_sp = 20"
   ]
  },
  {
   "cell_type": "markdown",
   "metadata": {},
   "source": [
    "## Loading the dataset"
   ]
  },
  {
   "cell_type": "markdown",
   "metadata": {},
   "source": [
    "### Loading the files"
   ]
  },
  {
   "cell_type": "code",
   "execution_count": 72,
   "metadata": {},
   "outputs": [],
   "source": [
    "rhos = np.load(os.path.join(data_folder, \"rhos.npy\"))\n",
    "list_params = np.load(os.path.join(data_folder, \"list_params.npy\"))\n",
    "purities = np.load(os.path.join(data_folder, \"purities.npy\"))"
   ]
  },
  {
   "cell_type": "code",
   "execution_count": 73,
   "metadata": {},
   "outputs": [],
   "source": [
    "n_samples = len(rhos)\n",
    "n_samples_train = int(ratio_train*n_samples)\n",
    "n_samples_test = n_samples - n_samples_train"
   ]
  },
  {
   "cell_type": "code",
   "execution_count": 74,
   "metadata": {},
   "outputs": [],
   "source": [
    "# samples_idx = np.random.choice(n_samples, size=n_samples, replace=False)\n",
    "# rhos = rhos[samples_idx]\n",
    "# list_params = list_params[samples_idx]"
   ]
  },
  {
   "cell_type": "markdown",
   "metadata": {},
   "source": [
    "### Dividing train and test"
   ]
  },
  {
   "cell_type": "code",
   "execution_count": 75,
   "metadata": {},
   "outputs": [
    {
     "name": "stdout",
     "output_type": "stream",
     "text": [
      "300\n"
     ]
    }
   ],
   "source": [
    "X_train = list_params[:n_samples_train]\n",
    "X_test = list_params[n_samples_train:]\n",
    "print(len(X_train))"
   ]
  },
  {
   "cell_type": "markdown",
   "metadata": {},
   "source": [
    "## Placeholders"
   ]
  },
  {
   "cell_type": "code",
   "execution_count": 76,
   "metadata": {},
   "outputs": [],
   "source": [
    "# squeeze gate\n",
    "sp_sq_r = tf.placeholder(tf.float32, [n_layers_sp, n_qumodes_psi], name=\"sp_sq_r\")\n",
    "sp_sq_phi = tf.placeholder(tf.float32, [n_layers_sp, n_qumodes_psi], name=\"sp_sq_phi\")\n",
    "\n",
    "# displacement gate\n",
    "sp_d_r = tf.placeholder(tf.float32, [n_layers_sp, n_qumodes_psi], name=\"sp_d_r\")\n",
    "sp_d_phi = tf.placeholder(tf.float32, [n_layers_sp, n_qumodes_psi], name=\"sp_d_phi\")\n",
    "\n",
    "# interferometer\n",
    "sp_inter_theta = tf.placeholder(tf.float32, [n_layers_sp*2, int(n_qumodes_psi*(n_qumodes_psi-1)/2)], name=\"sp_inter_theta\")\n",
    "sp_inter_phi = tf.placeholder(tf.float32, [n_layers_sp*2, int(n_qumodes_psi*(n_qumodes_psi-1)/2)], name=\"sp_inter_phi\")\n",
    "sp_inter_rphi = tf.placeholder(tf.float32, [n_layers_sp*2, n_qumodes_psi-1], name=\"sp_inter_rphi\")\n",
    "\n",
    "# kerr gate\n",
    "sp_kappa = tf.placeholder(tf.float32, [n_layers_sp, n_qumodes_psi], name=\"sp_kappa\")"
   ]
  },
  {
   "cell_type": "code",
   "execution_count": 77,
   "metadata": {},
   "outputs": [],
   "source": [
    "sp_params = [sp_sq_r, sp_sq_phi, sp_d_r, sp_d_phi, sp_inter_theta, sp_inter_phi, sp_inter_rphi, sp_kappa]"
   ]
  },
  {
   "cell_type": "code",
   "execution_count": 78,
   "metadata": {},
   "outputs": [],
   "source": [
    "def get_feed_dict(params):\n",
    "    return {sp_sq_r: np.array(list(params[0])),\n",
    "            sp_sq_phi: np.array(list(params[1])),\n",
    "            sp_d_r: np.array(list(params[2])),\n",
    "            sp_d_phi: np.array(list(params[3])),\n",
    "            sp_inter_theta: np.array(list(params[4])),\n",
    "            sp_inter_phi: np.array(list(params[5])),\n",
    "            sp_inter_rphi: np.array(list(params[6])),\n",
    "            sp_kappa: np.array(list(params[7]))}"
   ]
  },
  {
   "cell_type": "markdown",
   "metadata": {},
   "source": [
    "## Total Network"
   ]
  },
  {
   "cell_type": "markdown",
   "metadata": {},
   "source": [
    "### Prepare the network"
   ]
  },
  {
   "cell_type": "code",
   "execution_count": 79,
   "metadata": {},
   "outputs": [],
   "source": [
    "engine, q = sf.Engine(n_qumodes_total)"
   ]
  },
  {
   "cell_type": "code",
   "execution_count": 80,
   "metadata": {},
   "outputs": [],
   "source": [
    "with engine:\n",
    "    state_preparation_network(q, n_layers_sp, sp_params)"
   ]
  },
  {
   "cell_type": "code",
   "execution_count": 81,
   "metadata": {},
   "outputs": [],
   "source": [
    "state = engine.run('tf', cutoff_dim=cutoff, eval=False, modes=0)"
   ]
  },
  {
   "cell_type": "code",
   "execution_count": 82,
   "metadata": {},
   "outputs": [],
   "source": [
    "rho_output = state.dm()"
   ]
  },
  {
   "cell_type": "code",
   "execution_count": 83,
   "metadata": {},
   "outputs": [
    {
     "data": {
      "text/plain": [
       "<tf.Tensor 'density_matrix_3:0' shape=(5, 5) dtype=complex64>"
      ]
     },
     "execution_count": 83,
     "metadata": {},
     "output_type": "execute_result"
    }
   ],
   "source": [
    "rho_output"
   ]
  },
  {
   "cell_type": "code",
   "execution_count": 84,
   "metadata": {},
   "outputs": [],
   "source": [
    "eps = 1e-8\n",
    "purity_output = tf.real(tf.trace(rho_output @ rho_output))\n",
    "eig = tf.linalg.eigvalsh(rho_output)\n",
    "entropy_output = -tf.real(tf.reduce_sum(eig * tf.log(eig + eps)))\n",
    "trace_output = tf.real(tf.trace(rho_output))"
   ]
  },
  {
   "cell_type": "markdown",
   "metadata": {},
   "source": [
    "## Test"
   ]
  },
  {
   "cell_type": "code",
   "execution_count": 85,
   "metadata": {},
   "outputs": [],
   "source": [
    "sess = tf.Session()\n",
    "sess.run(tf.global_variables_initializer())"
   ]
  },
  {
   "cell_type": "code",
   "execution_count": 86,
   "metadata": {},
   "outputs": [
    {
     "data": {
      "text/plain": [
       "(400, 5, 5)"
      ]
     },
     "execution_count": 86,
     "metadata": {},
     "output_type": "execute_result"
    }
   ],
   "source": [
    "rhos.shape"
   ]
  },
  {
   "cell_type": "code",
   "execution_count": 87,
   "metadata": {},
   "outputs": [
    {
     "name": "stdout",
     "output_type": "stream",
     "text": [
      "399\n"
     ]
    }
   ],
   "source": [
    "list_purities_out = []\n",
    "list_trace_out = []\n",
    "for i_sample in range(n_samples):\n",
    "    feed_dict = get_feed_dict(list_params[i_sample])\n",
    "    list_purities_out.append(sess.run(purity_output, feed_dict=feed_dict))\n",
    "    list_trace_out.append(sess.run(trace_output, feed_dict=feed_dict))\n",
    "    clear_output(wait=True)\n",
    "    print(i_sample)\n",
    "list_purities_out = np.array(list_purities_out)\n",
    "list_trace_out = np.array(list_trace_out)"
   ]
  },
  {
   "cell_type": "code",
   "execution_count": 88,
   "metadata": {},
   "outputs": [],
   "source": [
    "# list_entropies_out = []\n",
    "# for i_sample in range(n_samples):\n",
    "#     feed_dict = get_feed_dict(list_params[i_sample])\n",
    "#     list_entropies_out.append(sess.run(entropy_output, feed_dict=feed_dict))\n",
    "#     clear_output(wait=True)\n",
    "#     print(i_sample)"
   ]
  },
  {
   "cell_type": "code",
   "execution_count": 89,
   "metadata": {},
   "outputs": [
    {
     "data": {
      "text/plain": [
       "(array([40., 40., 40., 40., 40., 39., 40., 41., 38., 42.]),\n",
       " array([0.20166264, 0.28108737, 0.3605121 , 0.43993682, 0.51936156,\n",
       "        0.5987863 , 0.67821103, 0.7576358 , 0.83706045, 0.9164852 ,\n",
       "        0.9959099 ], dtype=float32),\n",
       " <a list of 10 Patch objects>)"
      ]
     },
     "execution_count": 89,
     "metadata": {},
     "output_type": "execute_result"
    },
    {
     "data": {
      "image/png": "[encoded data removed]",
      "text/plain": [
       "<Figure size 432x288 with 1 Axes>"
      ]
     },
     "metadata": {},
     "output_type": "display_data"
    }
   ],
   "source": [
    "plt.hist(list_purities_out)"
   ]
  },
  {
   "cell_type": "code",
   "execution_count": 90,
   "metadata": {},
   "outputs": [
    {
     "data": {
      "text/plain": [
       "(array([ 2.,  5., 17., 19., 31., 71., 86., 90., 53., 26.]),\n",
       " array([0.925616  , 0.93285763, 0.9400993 , 0.9473409 , 0.9545826 ,\n",
       "        0.9618242 , 0.9690658 , 0.97630745, 0.98354906, 0.9907907 ,\n",
       "        0.99803233], dtype=float32),\n",
       " <a list of 10 Patch objects>)"
      ]
     },
     "execution_count": 90,
     "metadata": {},
     "output_type": "execute_result"
    },
    {
     "data": {
      "image/png": "[encoded data removed]",
      "text/plain": [
       "<Figure size 432x288 with 1 Axes>"
      ]
     },
     "metadata": {},
     "output_type": "display_data"
    }
   ],
   "source": [
    "plt.hist(list_trace_out)"
   ]
  },
  {
   "cell_type": "code",
   "execution_count": 91,
   "metadata": {},
   "outputs": [
    {
     "data": {
      "text/plain": [
       "(array([40., 41., 39., 40., 40., 40., 39., 41., 38., 42.]),\n",
       " array([0.20310573, 0.28250514, 0.36190454, 0.44130395, 0.52070335,\n",
       "        0.60010276, 0.67950216, 0.75890157, 0.83830097, 0.91770038,\n",
       "        0.99709978]),\n",
       " <a list of 10 Patch objects>)"
      ]
     },
     "execution_count": 91,
     "metadata": {},
     "output_type": "execute_result"
    },
    {
     "data": {
      "image/png": "[encoded data removed]",
      "text/plain": [
       "<Figure size 432x288 with 1 Axes>"
      ]
     },
     "metadata": {},
     "output_type": "display_data"
    }
   ],
   "source": [
    "plt.hist(purities)"
   ]
  },
  {
   "cell_type": "code",
   "execution_count": 95,
   "metadata": {},
   "outputs": [
    {
     "data": {
      "text/plain": [
       "(array([395.,   2.,   0.,   1.,   0.,   0.,   0.,   1.,   0.,   1.]),\n",
       " array([1.18242346e-11, 6.49946797e-05, 1.29989348e-04, 1.94984016e-04,\n",
       "        2.59978683e-04, 3.24973351e-04, 3.89968019e-04, 4.54962687e-04,\n",
       "        5.19957355e-04, 5.84952023e-04, 6.49946691e-04]),\n",
       " <a list of 10 Patch objects>)"
      ]
     },
     "execution_count": 95,
     "metadata": {},
     "output_type": "execute_result"
    },
    {
     "data": {
      "image/png": "[encoded data removed]",
      "text/plain": [
       "<Figure size 432x288 with 1 Axes>"
      ]
     },
     "metadata": {},
     "output_type": "display_data"
    }
   ],
   "source": [
    "plt.hist(np.square(purities - list_purities_out))"
   ]
  },
  {
   "cell_type": "code",
   "execution_count": 41,
   "metadata": {
    "collapsed": true
   },
   "outputs": [],
   "source": [
    "# np.save(os.path.join(data_folder, \"entropies.npy\"), list_entropies_out)"
   ]
  },
  {
   "cell_type": "code",
   "execution_count": null,
   "metadata": {
    "collapsed": true
   },
   "outputs": [],
   "source": []
  }
 ],
 "metadata": {
  "kernelspec": {
   "display_name": "Python 3",
   "language": "python",
   "name": "python3"
  },
  "language_info": {
   "codemirror_mode": {
    "name": "ipython",
    "version": 3
   },
   "file_extension": ".py",
   "mimetype": "text/x-python",
   "name": "python",
   "nbconvert_exporter": "python",
   "pygments_lexer": "ipython3",
   "version": "3.6.8"
  }
 },
 "nbformat": 4,
 "nbformat_minor": 2
}
