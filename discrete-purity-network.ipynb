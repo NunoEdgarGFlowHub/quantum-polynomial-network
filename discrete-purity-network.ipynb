{
 "cells": [
  {
   "cell_type": "markdown",
   "metadata": {},
   "source": [
    "# Purity State Preparation for Qubits\n",
    "Quantum Neural Network (QNN) that compute the purity of a given state"
   ]
  },
  {
   "cell_type": "code",
   "execution_count": 37,
   "metadata": {
    "collapsed": true
   },
   "outputs": [],
   "source": [
    "import os\n",
    "from matplotlib import pyplot as plt\n",
    "%matplotlib inline\n",
    "from IPython.display import clear_output\n",
    "\n",
    "import pennylane as qml\n",
    "from pennylane import numpy as np\n",
    "from pennylane_forest.ops import CCNOT\n",
    "from scipy.optimize import minimize\n",
    "from scipy.optimize import fmin_l_bfgs_b\n",
    "\n",
    "import torch\n",
    "from torch.autograd import Variable\n",
    "from torch import nn\n",
    "import torch.nn.functional as F\n",
    "\n",
    "from create_purity_dataset import generate_density_matrices"
   ]
  },
  {
   "cell_type": "code",
   "execution_count": 2,
   "metadata": {
    "collapsed": true
   },
   "outputs": [],
   "source": [
    "%load_ext autoreload\n",
    "%autoreload 2"
   ]
  },
  {
   "cell_type": "code",
   "execution_count": 3,
   "metadata": {
    "collapsed": true
   },
   "outputs": [],
   "source": [
    "np.random.seed(42)"
   ]
  },
  {
   "cell_type": "markdown",
   "metadata": {},
   "source": [
    "## Constants"
   ]
  },
  {
   "cell_type": "markdown",
   "metadata": {},
   "source": [
    "### Dataset"
   ]
  },
  {
   "cell_type": "code",
   "execution_count": 60,
   "metadata": {
    "collapsed": true
   },
   "outputs": [],
   "source": [
    "data_folder = \"data/discrete\"\n",
    "\n",
    "n_qubits_rho = 1\n",
    "n_qubits_psi = n_qubits_rho * 2 # for purification\n",
    "n_qubits_pn = n_qubits_rho * 2 + 1 # input: [ρ, ρ]\n",
    "n_qubits_total = n_qubits_psi * 2 + 1\n",
    "# modes_meas = [1,3]\n",
    "modes_meas = [0]\n",
    "modes_pn = [0,1,3]\n",
    "modes_sp_1 = [1,2]\n",
    "modes_sp_2 = [3,4]\n",
    "\n",
    "ratio_train = 0.75"
   ]
  },
  {
   "cell_type": "markdown",
   "metadata": {},
   "source": [
    "### Architectures"
   ]
  },
  {
   "cell_type": "code",
   "execution_count": 61,
   "metadata": {
    "collapsed": true
   },
   "outputs": [],
   "source": [
    "hidden_size = 20"
   ]
  },
  {
   "cell_type": "markdown",
   "metadata": {},
   "source": [
    "## Loading the dataset"
   ]
  },
  {
   "cell_type": "markdown",
   "metadata": {},
   "source": [
    "### Loading the files"
   ]
  },
  {
   "cell_type": "code",
   "execution_count": 62,
   "metadata": {
    "collapsed": true
   },
   "outputs": [],
   "source": [
    "rhos = np.load(os.path.join(data_folder, \"rhos.npy\"))\n",
    "purities = np.load(os.path.join(data_folder, \"purities.npy\"))\n",
    "list_params = np.load(os.path.join(data_folder, \"list_params.npy\"))"
   ]
  },
  {
   "cell_type": "code",
   "execution_count": 63,
   "metadata": {
    "collapsed": true
   },
   "outputs": [],
   "source": [
    "n_samples = len(rhos)\n",
    "n_samples_train = int(ratio_train*n_samples)\n",
    "n_samples_test = n_samples - n_samples_train"
   ]
  },
  {
   "cell_type": "code",
   "execution_count": 64,
   "metadata": {
    "collapsed": true
   },
   "outputs": [],
   "source": [
    "samples_idx = np.random.choice(n_samples, size=n_samples, replace=False)\n",
    "rhos = rhos[samples_idx]\n",
    "purities = purities[samples_idx]\n",
    "list_params = list_params[samples_idx]"
   ]
  },
  {
   "cell_type": "markdown",
   "metadata": {},
   "source": [
    "### Dividing train and test"
   ]
  },
  {
   "cell_type": "code",
   "execution_count": 65,
   "metadata": {},
   "outputs": [
    {
     "name": "stdout",
     "output_type": "stream",
     "text": [
      "300\n"
     ]
    }
   ],
   "source": [
    "X_train = list_params[:n_samples_train]\n",
    "X_test = list_params[n_samples_train:]\n",
    "\n",
    "Y_train = purities[:n_samples_train]\n",
    "Y_test = purities[n_samples_train:]\n",
    "print(len(X_train))"
   ]
  },
  {
   "cell_type": "markdown",
   "metadata": {},
   "source": [
    "## Networks"
   ]
  },
  {
   "cell_type": "code",
   "execution_count": 66,
   "metadata": {
    "collapsed": true
   },
   "outputs": [],
   "source": [
    "# dev1 = qml.device('default.qubit', wires=n_qubits_total)\n",
    "# dev1 = qml.device('projectq.simulator', wires=4)\n",
    "dev1 = qml.device('forest.wavefunction', wires=n_qubits_total)\n",
    "# dev1 = qml.device('forest.qvm', device='4q', noisy=False, shots=)"
   ]
  },
  {
   "cell_type": "markdown",
   "metadata": {},
   "source": [
    "### Useful gates"
   ]
  },
  {
   "cell_type": "code",
   "execution_count": 67,
   "metadata": {
    "collapsed": true
   },
   "outputs": [],
   "source": [
    "def CRZ(theta, wires):\n",
    "    qml.RZ(theta, wires[1])\n",
    "    qml.CNOT(wires)\n",
    "    qml.RZ(-theta*0.5, wires[1])\n",
    "    qml.CNOT(wires)\n",
    "    qml.RZ(-theta*0.5, wires[1])"
   ]
  },
  {
   "cell_type": "code",
   "execution_count": 68,
   "metadata": {
    "collapsed": true
   },
   "outputs": [],
   "source": [
    "def CRY(theta, wires):\n",
    "    qml.RY(theta, wires[1])\n",
    "    qml.CNOT(wires)\n",
    "    qml.RY(-theta*0.5, wires[1])\n",
    "    qml.CNOT(wires)\n",
    "    qml.RY(-theta*0.5, wires[1])"
   ]
  },
  {
   "cell_type": "markdown",
   "metadata": {},
   "source": [
    "### Universal block"
   ]
  },
  {
   "cell_type": "code",
   "execution_count": 69,
   "metadata": {
    "collapsed": true
   },
   "outputs": [],
   "source": [
    "def universal_block(params, q):\n",
    "    qml.RZ(params[0], wires=q[0])\n",
    "    qml.RY(params[1], wires=q[0])\n",
    "    qml.RZ(params[2], wires=q[0])\n",
    "    qml.RZ(params[3], wires=q[1])\n",
    "    qml.RY(params[4], wires=q[1])\n",
    "    qml.RZ(params[5], wires=q[1])\n",
    "    qml.CNOT(wires=[q[1],q[0]])\n",
    "    qml.RZ(params[6], wires=q[0])\n",
    "    qml.RY(params[7], wires=q[1])\n",
    "    qml.CNOT(wires=[q[0],q[1]])\n",
    "    qml.RY(params[8], wires=q[1])\n",
    "    qml.CNOT(wires=[q[1],q[0]])\n",
    "    qml.RZ(params[9], wires=q[0])\n",
    "    qml.RY(params[10], wires=q[0])\n",
    "    qml.RZ(params[11], wires=q[0])\n",
    "    qml.RZ(params[12], wires=q[1])\n",
    "    qml.RY(params[13], wires=q[1])\n",
    "    qml.RZ(params[14], wires=q[1])"
   ]
  },
  {
   "cell_type": "code",
   "execution_count": 70,
   "metadata": {
    "collapsed": true
   },
   "outputs": [],
   "source": [
    "def controlled_block(params, q):\n",
    "    CRZ(params[0], wires=[q[0], q[1]])\n",
    "    CRY(params[1], wires=[q[0], q[1]])\n",
    "    CRZ(params[2], wires=[q[0], q[1]])\n",
    "    \n",
    "    CRZ(params[3], wires=[q[0], q[2]])\n",
    "    CRY(params[4], wires=[q[0], q[2]])\n",
    "    CRZ(params[5], wires=[q[0], q[2]])\n",
    "    \n",
    "    CCNOT(wires=[q[0], q[2], q[1]])\n",
    "    CRZ(params[6], wires=[q[0], q[1]])\n",
    "    CRY(params[7], wires=[q[0], q[2]])\n",
    "    \n",
    "    CCNOT(wires=[q[0], q[1],q[2]])\n",
    "    CRY(params[8], wires=[q[0], q[2]])\n",
    "    CCNOT(wires=[q[0], q[2],q[1]])\n",
    "    \n",
    "    CRZ(params[9], wires=[q[0], q[1]])\n",
    "    CRY(params[10], wires=[q[0], q[1]])\n",
    "    CRZ(params[11], wires=[q[0], q[1]])\n",
    "    \n",
    "    CRZ(params[12], wires=[q[0], q[2]])\n",
    "    CRY(params[13], wires=[q[0], q[2]])\n",
    "    CRZ(params[14], wires=[q[0], q[2]])"
   ]
  },
  {
   "cell_type": "markdown",
   "metadata": {},
   "source": [
    "### State preparation"
   ]
  },
  {
   "cell_type": "code",
   "execution_count": 71,
   "metadata": {
    "collapsed": true
   },
   "outputs": [],
   "source": [
    "def sp_network(params, q):\n",
    "    universal_block(params, q)"
   ]
  },
  {
   "cell_type": "markdown",
   "metadata": {},
   "source": [
    "### Purity network"
   ]
  },
  {
   "cell_type": "code",
   "execution_count": 81,
   "metadata": {
    "collapsed": true
   },
   "outputs": [],
   "source": [
    "def pn_network(params, q):\n",
    "    qml.Hadamard(q[0])\n",
    "    controlled_block(params, q)\n",
    "    qml.Hadamard(q[0])"
   ]
  },
  {
   "cell_type": "markdown",
   "metadata": {},
   "source": [
    "### End network"
   ]
  },
  {
   "cell_type": "code",
   "execution_count": 109,
   "metadata": {
    "collapsed": true
   },
   "outputs": [],
   "source": [
    "class EndNetwork(nn.Module):\n",
    "    def __init__(self, input_size, hidden_size):\n",
    "        super(EndNetwork, self).__init__()\n",
    "        self.fc1 = nn.Linear(input_size, 1) \n",
    "\n",
    "#         self.fc1 = nn.Linear(input_size, hidden_size) \n",
    "#         self.fc2 = nn.Linear(hidden_size, hidden_size)  \n",
    "#         self.fc3 = nn.Linear(hidden_size, hidden_size)\n",
    "#         self.fc4 = nn.Linear(hidden_size, 1)\n",
    "        \n",
    "        for param in self.parameters():\n",
    "            if len(param.shape) >= 2:\n",
    "                nn.init.orthogonal_(param.data)\n",
    "    \n",
    "    def forward(self, x):\n",
    "        out = x.float()\n",
    "        out = self.fc1(out)\n",
    "#         out = F.relu(self.fc1(out))\n",
    "#         out = F.relu(self.fc2(out))\n",
    "#         out = F.relu(self.fc3(out))\n",
    "#         out = F.relu(self.fc4(out))\n",
    "\n",
    "        return out"
   ]
  },
  {
   "cell_type": "code",
   "execution_count": 110,
   "metadata": {
    "collapsed": true
   },
   "outputs": [],
   "source": [
    "# end_network = EndNetwork(len(modes_meas), hidden_size)\n",
    "end_network = EndNetwork(1, hidden_size)"
   ]
  },
  {
   "cell_type": "code",
   "execution_count": 111,
   "metadata": {
    "collapsed": true
   },
   "outputs": [],
   "source": [
    "end_params = end_network.parameters()"
   ]
  },
  {
   "cell_type": "code",
   "execution_count": 112,
   "metadata": {
    "collapsed": true
   },
   "outputs": [],
   "source": [
    "# def end_network(params, x):\n",
    "#     return params.dot(x)"
   ]
  },
  {
   "cell_type": "markdown",
   "metadata": {},
   "source": [
    "### Total network"
   ]
  },
  {
   "cell_type": "code",
   "execution_count": 113,
   "metadata": {
    "collapsed": true
   },
   "outputs": [],
   "source": [
    "@qml.qnode(dev1, interface='torch')\n",
    "def total_qnn(sp_params, pn_params):\n",
    "#     sp_network(sp_params, [0,1])\n",
    "#     sp_network(sp_params, [2,3])\n",
    "#     pn_network(pn_params, modes_meas)\n",
    "    sp_network(sp_params, modes_sp_1)\n",
    "    sp_network(sp_params, modes_sp_2)\n",
    "    pn_network(pn_params, modes_pn)\n",
    "    \n",
    "#     ZZ = np.diag([1,-1,-1,1])\n",
    "#     return tuple(qml.expval.PauliZ(mode) for mode in modes_meas) \\\n",
    "#          + (qml.expval.Hermitian(ZZ, wires=modes_meas),)\n",
    "    return tuple(qml.expval.PauliZ(mode) for mode in modes_meas)"
   ]
  },
  {
   "cell_type": "code",
   "execution_count": 114,
   "metadata": {
    "collapsed": true
   },
   "outputs": [],
   "source": [
    "def total_network(sp_params, pn_params):\n",
    "    return end_network.forward(total_qnn(sp_params, pn_params))"
   ]
  },
  {
   "cell_type": "code",
   "execution_count": 115,
   "metadata": {},
   "outputs": [
    {
     "data": {
      "text/plain": [
       "tensor([0.0420], grad_fn=<AddBackward0>)"
      ]
     },
     "execution_count": 115,
     "metadata": {},
     "output_type": "execute_result"
    }
   ],
   "source": [
    "total_network(list_params[0], list_params[0])"
   ]
  },
  {
   "cell_type": "markdown",
   "metadata": {},
   "source": [
    "## Cost and optimizer"
   ]
  },
  {
   "cell_type": "markdown",
   "metadata": {},
   "source": [
    "### Parameters"
   ]
  },
  {
   "cell_type": "code",
   "execution_count": 116,
   "metadata": {
    "collapsed": true
   },
   "outputs": [],
   "source": [
    "pn_params = torch.tensor(np.random.normal(size=15, scale=0.1), requires_grad=True)\n",
    "# end_params = torch.tensor(np.random.normal(size=len(modes_meas), scale=0.1), requires_grad=True)\n",
    "# pn_params = np.random.normal(size=15, scale=0.1)\n",
    "# end_params = np.random.normal(size=len(modes_meas), scale=0.1)"
   ]
  },
  {
   "cell_type": "markdown",
   "metadata": {},
   "source": [
    "### Cost function"
   ]
  },
  {
   "cell_type": "code",
   "execution_count": 117,
   "metadata": {
    "collapsed": true
   },
   "outputs": [],
   "source": [
    "def purity_fct(rho, backend=\"torch\"):\n",
    "    if backend == \"torch\":\n",
    "        return torch.trace(rho @ rho)\n",
    "    if backend == \"np\":\n",
    "        return np.real(np.trace(rho @ rho))"
   ]
  },
  {
   "cell_type": "code",
   "execution_count": 118,
   "metadata": {
    "collapsed": true
   },
   "outputs": [],
   "source": [
    "def purity_mse(purity1, purity2):\n",
    "    return torch.mean((purity1 - purity2)**2)"
   ]
  },
  {
   "cell_type": "code",
   "execution_count": 119,
   "metadata": {
    "collapsed": true
   },
   "outputs": [],
   "source": [
    "def cost(sp_params, pn_params, purity_true):\n",
    "    purity_out = total_network(sp_params, pn_params)\n",
    "    return purity_mse(purity_out, purity_true)"
   ]
  },
  {
   "cell_type": "markdown",
   "metadata": {},
   "source": [
    "### Training without gradient"
   ]
  },
  {
   "cell_type": "code",
   "execution_count": 120,
   "metadata": {
    "collapsed": true
   },
   "outputs": [],
   "source": [
    "X_train_tensor = torch.tensor(X_train)\n",
    "Y_train_tensor = torch.tensor(Y_train)"
   ]
  },
  {
   "cell_type": "code",
   "execution_count": 121,
   "metadata": {
    "collapsed": true
   },
   "outputs": [],
   "source": [
    "def cost_total(params):\n",
    "    pn_params = params[:15]\n",
    "    end_params = params[15:]\n",
    "    return np.mean([cost(X_train_tensor[i], pn_params, Y_train_tensor[i])\n",
    "                    for i in range(16)])"
   ]
  },
  {
   "cell_type": "code",
   "execution_count": 122,
   "metadata": {
    "collapsed": true
   },
   "outputs": [],
   "source": [
    "# import time\n",
    "# start = time.time()\n",
    "# result = fmin_l_bfgs_b(cost_total, np.concatenate([pn_params, end_params]),\n",
    "#                        maxiter=1, approx_grad=True)\n",
    "# print(time.time() - start)"
   ]
  },
  {
   "cell_type": "code",
   "execution_count": 123,
   "metadata": {
    "collapsed": true
   },
   "outputs": [],
   "source": [
    "# result"
   ]
  },
  {
   "cell_type": "markdown",
   "metadata": {},
   "source": [
    "### Optimizer"
   ]
  },
  {
   "cell_type": "code",
   "execution_count": 124,
   "metadata": {
    "collapsed": true
   },
   "outputs": [],
   "source": [
    "opt = torch.optim.Adam([pn_params] + list(end_network.parameters()), lr = 0.1)"
   ]
  },
  {
   "cell_type": "markdown",
   "metadata": {},
   "source": [
    "## Training"
   ]
  },
  {
   "cell_type": "code",
   "execution_count": 125,
   "metadata": {
    "collapsed": true
   },
   "outputs": [],
   "source": [
    "cost_train_list = []\n",
    "cost_test_list = []\n",
    "iter_train_list = []\n",
    "iter_test_list = []\n",
    "i = 0"
   ]
  },
  {
   "cell_type": "code",
   "execution_count": 129,
   "metadata": {},
   "outputs": [
    {
     "name": "stdout",
     "output_type": "stream",
     "text": [
      "Step: 16/300\n",
      "Cost train after step     7:  0.0000001\n",
      "Cost test after step     7:  0.0000002\n"
     ]
    },
    {
     "ename": "KeyboardInterrupt",
     "evalue": "",
     "output_type": "error",
     "traceback": [
      "\u001b[0;31m---------------------------------------------------------------------------\u001b[0m",
      "\u001b[0;31mKeyboardInterrupt\u001b[0m                         Traceback (most recent call last)",
      "\u001b[0;32m<ipython-input-129-21d0bc37a61f>\u001b[0m in \u001b[0;36m<module>\u001b[0;34m\u001b[0m\n\u001b[1;32m     25\u001b[0m                 \u001b[0mprint\u001b[0m\u001b[0;34m(\u001b[0m\u001b[0;34m'Cost test after step {:5d}: {: .7f}'\u001b[0m\u001b[0;34m.\u001b[0m\u001b[0mformat\u001b[0m\u001b[0;34m(\u001b[0m\u001b[0mi\u001b[0m\u001b[0;34m,\u001b[0m \u001b[0mcost_test_list\u001b[0m\u001b[0;34m[\u001b[0m\u001b[0;34m-\u001b[0m\u001b[0;36m1\u001b[0m\u001b[0;34m]\u001b[0m\u001b[0;34m)\u001b[0m\u001b[0;34m)\u001b[0m\u001b[0;34m\u001b[0m\u001b[0;34m\u001b[0m\u001b[0m\n\u001b[1;32m     26\u001b[0m \u001b[0;34m\u001b[0m\u001b[0m\n\u001b[0;32m---> 27\u001b[0;31m             \u001b[0mcost_train_batch\u001b[0m\u001b[0;34m.\u001b[0m\u001b[0mbackward\u001b[0m\u001b[0;34m(\u001b[0m\u001b[0;34m)\u001b[0m\u001b[0;34m\u001b[0m\u001b[0;34m\u001b[0m\u001b[0m\n\u001b[0m\u001b[1;32m     28\u001b[0m             \u001b[0mopt\u001b[0m\u001b[0;34m.\u001b[0m\u001b[0mstep\u001b[0m\u001b[0;34m(\u001b[0m\u001b[0;34m)\u001b[0m\u001b[0;34m\u001b[0m\u001b[0;34m\u001b[0m\u001b[0m\n\u001b[1;32m     29\u001b[0m             \u001b[0mopt\u001b[0m\u001b[0;34m.\u001b[0m\u001b[0mzero_grad\u001b[0m\u001b[0;34m(\u001b[0m\u001b[0;34m)\u001b[0m\u001b[0;34m\u001b[0m\u001b[0;34m\u001b[0m\u001b[0m\n",
      "\u001b[0;32m~/miniconda3/envs/pennylane/lib/python3.6/site-packages/torch/tensor.py\u001b[0m in \u001b[0;36mbackward\u001b[0;34m(self, gradient, retain_graph, create_graph)\u001b[0m\n\u001b[1;32m    100\u001b[0m                 \u001b[0mproducts\u001b[0m\u001b[0;34m.\u001b[0m \u001b[0mDefaults\u001b[0m \u001b[0mto\u001b[0m\u001b[0;31m \u001b[0m\u001b[0;31m`\u001b[0m\u001b[0;31m`\u001b[0m\u001b[0;32mFalse\u001b[0m\u001b[0;31m`\u001b[0m\u001b[0;31m`\u001b[0m\u001b[0;34m.\u001b[0m\u001b[0;34m\u001b[0m\u001b[0;34m\u001b[0m\u001b[0m\n\u001b[1;32m    101\u001b[0m         \"\"\"\n\u001b[0;32m--> 102\u001b[0;31m         \u001b[0mtorch\u001b[0m\u001b[0;34m.\u001b[0m\u001b[0mautograd\u001b[0m\u001b[0;34m.\u001b[0m\u001b[0mbackward\u001b[0m\u001b[0;34m(\u001b[0m\u001b[0mself\u001b[0m\u001b[0;34m,\u001b[0m \u001b[0mgradient\u001b[0m\u001b[0;34m,\u001b[0m \u001b[0mretain_graph\u001b[0m\u001b[0;34m,\u001b[0m \u001b[0mcreate_graph\u001b[0m\u001b[0;34m)\u001b[0m\u001b[0;34m\u001b[0m\u001b[0;34m\u001b[0m\u001b[0m\n\u001b[0m\u001b[1;32m    103\u001b[0m \u001b[0;34m\u001b[0m\u001b[0m\n\u001b[1;32m    104\u001b[0m     \u001b[0;32mdef\u001b[0m \u001b[0mregister_hook\u001b[0m\u001b[0;34m(\u001b[0m\u001b[0mself\u001b[0m\u001b[0;34m,\u001b[0m \u001b[0mhook\u001b[0m\u001b[0;34m)\u001b[0m\u001b[0;34m:\u001b[0m\u001b[0;34m\u001b[0m\u001b[0;34m\u001b[0m\u001b[0m\n",
      "\u001b[0;32m~/miniconda3/envs/pennylane/lib/python3.6/site-packages/torch/autograd/__init__.py\u001b[0m in \u001b[0;36mbackward\u001b[0;34m(tensors, grad_tensors, retain_graph, create_graph, grad_variables)\u001b[0m\n\u001b[1;32m     88\u001b[0m     Variable._execution_engine.run_backward(\n\u001b[1;32m     89\u001b[0m         \u001b[0mtensors\u001b[0m\u001b[0;34m,\u001b[0m \u001b[0mgrad_tensors\u001b[0m\u001b[0;34m,\u001b[0m \u001b[0mretain_graph\u001b[0m\u001b[0;34m,\u001b[0m \u001b[0mcreate_graph\u001b[0m\u001b[0;34m,\u001b[0m\u001b[0;34m\u001b[0m\u001b[0;34m\u001b[0m\u001b[0m\n\u001b[0;32m---> 90\u001b[0;31m         allow_unreachable=True)  # allow_unreachable flag\n\u001b[0m\u001b[1;32m     91\u001b[0m \u001b[0;34m\u001b[0m\u001b[0m\n\u001b[1;32m     92\u001b[0m \u001b[0;34m\u001b[0m\u001b[0m\n",
      "\u001b[0;31mKeyboardInterrupt\u001b[0m: "
     ]
    }
   ],
   "source": [
    "nb_epochs = 30000\n",
    "lr = 50e-4\n",
    "batch_size = 16\n",
    "n_iters_test = 2\n",
    "opt.lr = lr\n",
    "\n",
    "for i in range(i, nb_epochs+i):\n",
    "    samples_idx = np.random.choice(n_samples_train, size=n_samples_train, replace=False)\n",
    "    \n",
    "    opt.zero_grad()\n",
    "    cost_train_epoch = []\n",
    "    cost_train_batch = 0\n",
    "    for i_sample in range(n_samples_train):\n",
    "        sp_params = torch.tensor(X_train[samples_idx[i_sample]])\n",
    "        purity_true = torch.tensor(Y_train[samples_idx[i_sample]])\n",
    "      \n",
    "        cost_train_batch += cost(sp_params, pn_params, purity_true) \n",
    "\n",
    "        if (i_sample != 0 and i_sample % batch_size == 0) or i_sample == n_samples_train-1:\n",
    "            cost_train_epoch.append(cost_train_batch.detach().numpy() / batch_size)\n",
    "            clear_output(wait=True)\n",
    "            print('Step: {}/{}'.format(i_sample, n_samples_train))\n",
    "            print('Cost train after step {:5d}: {: .7f}'.format(i, np.mean(cost_train_epoch)))\n",
    "            if i > n_iters_test:\n",
    "                print('Cost test after step {:5d}: {: .7f}'.format(i, cost_test_list[-1]))  \n",
    "            \n",
    "            cost_train_batch.backward()\n",
    "            opt.step()\n",
    "            opt.zero_grad()\n",
    "            cost_train_batch = 0\n",
    "            \n",
    "    if i % n_iters_test == 0:\n",
    "        samples_idx = np.random.choice(n_samples_test, size=n_samples_test, replace=False)\n",
    "        cost_test_sample = []\n",
    "        for i_sample in range(n_samples_test):\n",
    "            sp_params = torch.tensor(X_test[samples_idx[i_sample]])\n",
    "            purity_true = torch.tensor(Y_test[samples_idx[i_sample]])\n",
    "            cost_test_sample.append(cost(sp_params, pn_params, purity_true).detach().numpy())\n",
    "        cost_test_list.append(np.mean(cost_test_sample))\n",
    "        iter_test_list.append(i)\n",
    "        \n",
    "    cost_train_list.append(np.mean(cost_train_epoch))\n",
    "    iter_train_list.append(i)\n",
    "    \n",
    "i = i+1"
   ]
  },
  {
   "cell_type": "markdown",
   "metadata": {},
   "source": [
    "# Visualization and result"
   ]
  },
  {
   "cell_type": "code",
   "execution_count": 134,
   "metadata": {},
   "outputs": [
    {
     "data": {
      "text/plain": [
       "<matplotlib.legend.Legend at 0x7f3925c9f780>"
      ]
     },
     "execution_count": 134,
     "metadata": {},
     "output_type": "execute_result"
    },
    {
     "data": {
      "image/png": "[encoded data removed]",
      "text/plain": [
       "<Figure size 1152x360 with 2 Axes>"
      ]
     },
     "metadata": {
      "needs_background": "light"
     },
     "output_type": "display_data"
    }
   ],
   "source": [
    "start = 1\n",
    "plt.rcParams['figure.figsize'] = (16,5)\n",
    "\n",
    "plt.subplot(1,2,1)\n",
    "plt.plot(iter_train_list[start:], cost_train_list[start:], \n",
    "         label=\"Training learning curve\")\n",
    "plt.legend()\n",
    "\n",
    "plt.subplot(1,2,2)\n",
    "plt.plot(iter_test_list[np.where(np.array(iter_test_list) >= start)[0][0]:], cost_test_list[np.where(np.array(iter_test_list) >= start)[0][0]:], \n",
    "         label=\"Testing learning curve\")\n",
    "plt.legend()"
   ]
  },
  {
   "cell_type": "code",
   "execution_count": 132,
   "metadata": {},
   "outputs": [
    {
     "data": {
      "image/png": "[encoded data removed]",
      "text/plain": [
       "<Figure size 1152x360 with 2 Axes>"
      ]
     },
     "metadata": {
      "needs_background": "light"
     },
     "output_type": "display_data"
    }
   ],
   "source": [
    "plt.rcParams['figure.figsize'] = (16,5)\n",
    "\n",
    "plt.subplot(1,2,1)\n",
    "plt.title(\"Result: {:0.7f}\".format(cost_train_list[-1]))\n",
    "\n",
    "purity_pred = []\n",
    "for j in range(n_samples_train):\n",
    "    purity_pred.append(total_network(torch.tensor(X_train[j]), pn_params).detach().numpy())\n",
    "\n",
    "plt.scatter(Y_train, purity_pred, label=\"Train\")\n",
    "plt.plot([0,1],[0,1])\n",
    "plt.xlabel(\"Truth\")\n",
    "plt.ylabel(\"Prediction\")\n",
    "plt.legend()\n",
    "\n",
    "plt.subplot(1,2,2)\n",
    "plt.title(\"Result: {:0.7f}\".format(cost_test_list[-1]))\n",
    "\n",
    "purity_pred = []\n",
    "for j in range(n_samples_test):\n",
    "    purity_pred.append(total_network(torch.tensor(X_test[j]), pn_params).detach().numpy())\n",
    "    \n",
    "plt.scatter(Y_test, purity_pred, label=\"Test\")\n",
    "plt.plot([0,1],[0,1])\n",
    "plt.xlabel(\"Truth\")\n",
    "plt.ylabel(\"Prediction\")\n",
    "plt.legend()\n",
    "\n",
    "plt.savefig(\"experiments/discrete/ancilla_net/truth-predict.png\")"
   ]
  },
  {
   "cell_type": "markdown",
   "metadata": {},
   "source": [
    "## Debug"
   ]
  },
  {
   "cell_type": "code",
   "execution_count": null,
   "metadata": {
    "collapsed": true
   },
   "outputs": [],
   "source": []
  }
 ],
 "metadata": {
  "kernelspec": {
   "display_name": "Python [conda env:pennylane]",
   "language": "python",
   "name": "conda-env-pennylane-py"
  },
  "language_info": {
   "codemirror_mode": {
    "name": "ipython",
    "version": 3
   },
   "file_extension": ".py",
   "mimetype": "text/x-python",
   "name": "python",
   "nbconvert_exporter": "python",
   "pygments_lexer": "ipython3",
   "version": "3.6.8"
  }
 },
 "nbformat": 4,
 "nbformat_minor": 2
}
